{
 "cells": [
  {
   "cell_type": "code",
   "execution_count": null,
   "metadata": {},
   "outputs": [],
   "source": [
    "import matplotlib.pyplot as plt\n",
    "import pandas as pd\n",
    "import numpy as np\n",
    "import seaborn as sns\n",
    "from matplotlib.ticker import (MultipleLocator, AutoMinorLocator)\n",
    "from mpl_toolkits.axes_grid1.inset_locator import inset_axes\n",
    "import os\n",
    "import sys\n",
    "sys.path.append('..')\n",
    "from NIST import read_NIST, plot_NIST"
   ]
  },
  {
   "cell_type": "code",
   "execution_count": null,
   "metadata": {},
   "outputs": [],
   "source": [
    "path = './NIST_data/'\n",
    "\n",
    "species_202 = ['Pyrene', 'Fluoranthene']\n",
    "species_216 = ['11H-benzo[a]fluorene', '11H-benzo[b]fluorene', '1-Methylpyrene']\n",
    "species_226 = ['Benzo[ghi]fluoranthene', 'Cyclopenta[cd]pyrene']\n",
    "species_228 = ['Benz[a]anthracene', 'Triphenylene']\n",
    "species_242 = ['10-Methylbenz[a]anthracene']\n",
    "species_252 = ['Benzo[b]fluoranthene', 'Benzo[j]fluoranthene', 'Benzo[k]fluoranthene', 'Benzo[e]pyrene', 'Benzo[a]pyrene']\n",
    "species_276 = []"
   ]
  }
 ],
 "metadata": {
  "language_info": {
   "name": "python"
  }
 },
 "nbformat": 4,
 "nbformat_minor": 2
}
